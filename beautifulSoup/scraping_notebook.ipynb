{
 "cells": [
  {
   "cell_type": "code",
   "id": "initial_id",
   "metadata": {
    "collapsed": true,
    "ExecuteTime": {
     "end_time": "2025-03-07T09:11:39.755705Z",
     "start_time": "2025-03-07T09:11:39.752535Z"
    }
   },
   "source": [
    "from bs4 import BeautifulSoup\n",
    "import requests\n",
    "import pandas as pd\n"
   ],
   "outputs": [],
   "execution_count": 111
  },
  {
   "metadata": {
    "ExecuteTime": {
     "end_time": "2025-03-07T09:12:34.002259Z",
     "start_time": "2025-03-07T09:12:33.845315Z"
    }
   },
   "cell_type": "code",
   "source": [
    "url='https://en.wikipedia.org/wiki/List_of_largest_companies_by_revenue'\n",
    "page =requests.get(url)\n",
    "soup=BeautifulSoup(page.text,'html')\n",
    "# print(soup.prettify())"
   ],
   "id": "4c6e0b89c6da1ef1",
   "outputs": [],
   "execution_count": 121
  },
  {
   "metadata": {
    "ExecuteTime": {
     "end_time": "2025-03-07T09:15:26.898069Z",
     "start_time": "2025-03-07T09:15:26.891447Z"
    }
   },
   "cell_type": "code",
   "source": "table= soup.find('table',class_='wikitable sortable sticky-header-multi sort-under')",
   "id": "15e7cff3d18dbd9b",
   "outputs": [],
   "execution_count": 132
  },
  {
   "metadata": {
    "ExecuteTime": {
     "end_time": "2025-03-07T09:21:58.355986Z",
     "start_time": "2025-03-07T09:21:58.350073Z"
    }
   },
   "cell_type": "code",
   "source": [
    "headers = table.find_all('th')\n",
    "header_list = []\n",
    "for header in headers:\n",
    "    text = header.get_text(strip=True)\n",
    "    \n",
    "    # Filter out unwanted headers like numbers and footnotes\n",
    "    if text and not text.isdigit() and not text.startswith('['): \n",
    "        header_list.append(text)\n",
    "\n",
    "# Print the cleaned list of headers\n",
    "print(header_list)"
   ],
   "id": "5b23fd8ab9cca983",
   "outputs": [
    {
     "name": "stdout",
     "output_type": "stream",
     "text": [
      "['Rank', 'Ram', 'Industry', 'Revenue', 'Profit', 'Employees', 'Headquarters[note 1]', 'State-owned', 'Ref.', 'USD millions']\n"
     ]
    }
   ],
   "execution_count": 140
  },
  {
   "metadata": {
    "ExecuteTime": {
     "end_time": "2025-03-07T09:37:27.146569Z",
     "start_time": "2025-03-07T09:37:27.142002Z"
    }
   },
   "cell_type": "code",
   "source": [
    "rows=table.find_all('tr')\n",
    "# print(rows[3])"
   ],
   "id": "4a1bd7a33eb232d4",
   "outputs": [],
   "execution_count": 165
  },
  {
   "metadata": {
    "ExecuteTime": {
     "end_time": "2025-03-07T09:36:34.643207Z",
     "start_time": "2025-03-07T09:36:34.631160Z"
    }
   },
   "cell_type": "code",
   "source": [
    "table_data=[]\n",
    "\n",
    "for row in rows:\n",
    "    cols = row.find_all(['td'])   \n",
    "    cols = [col.text.strip() for col in cols]  \n",
    "\n",
    "    if len(cols) > 0:\n",
    "        table_data.append(cols)\n",
    "\n"
   ],
   "id": "29e6ea58a5a8223c",
   "outputs": [
    {
     "name": "stdout",
     "output_type": "stream",
     "text": [
      "['USD millions']\n",
      "['Rank', 'Ram', 'Industry', 'Revenue', 'Profit', 'Employees', 'Headquarters[note 1]', 'State-owned', 'Ref.', 'USD millions']\n"
     ]
    }
   ],
   "execution_count": 164
  },
  {
   "metadata": {
    "ExecuteTime": {
     "end_time": "2025-03-07T09:38:25.924282Z",
     "start_time": "2025-03-07T09:38:25.900621Z"
    }
   },
   "cell_type": "code",
   "source": [
    "df=pd.DataFrame(table_data,columns=header_list[1:],)\n",
    "print(df)"
   ],
   "id": "889c272622b9d82c",
   "outputs": [
    {
     "name": "stdout",
     "output_type": "stream",
     "text": [
      "             Ram                                 Industry  \\\n",
      "0           Rank                                      Ram   \n",
      "1   USD millions                                     None   \n",
      "2              1                                  Walmart   \n",
      "3              2                                   Amazon   \n",
      "4              3          State Grid Corporation of China   \n",
      "5              4                             Saudi Aramco   \n",
      "6              5          China Petrochemical Corporation   \n",
      "7              6     China National Petroleum Corporation   \n",
      "8              7                                    Vitol   \n",
      "9              8                                    Apple   \n",
      "10             9                       UnitedHealth Group   \n",
      "11            10                       Berkshire Hathaway   \n",
      "12            11                               CVS Health   \n",
      "13            12                         Volkswagen Group   \n",
      "14            13                               ExxonMobil   \n",
      "15            14                                    Shell   \n",
      "16            15     China State Construction Engineering   \n",
      "17            16                                   Toyota   \n",
      "18            17                                 McKesson   \n",
      "19            18                                 Alphabet   \n",
      "20            19                                  Cencora   \n",
      "21            20                                Microsoft   \n",
      "22            21                                Trafigura   \n",
      "23            22                                   Costco   \n",
      "24            23                           JPMorgan Chase   \n",
      "25            24  Industrial and Commercial Bank of China   \n",
      "26            25                            TotalEnergies   \n",
      "27            26                                 Glencore   \n",
      "28            27                                       BP   \n",
      "29            28                          Cardinal Health   \n",
      "30            29                               Stellantis   \n",
      "31            30                                  Chevron   \n",
      "32            31                  China Construction Bank   \n",
      "33            32                      Samsung Electronics   \n",
      "34            33                                  Foxconn   \n",
      "35            34                                    Cigna   \n",
      "36            35               Agricultural Bank of China   \n",
      "37            36                           Schwarz Gruppe   \n",
      "38            37    China Railway Engineering Corporation   \n",
      "39            38                                  Cargill   \n",
      "40            39                       Ford Motor Company   \n",
      "41            40                            Bank of China   \n",
      "42            41                          Bank of America   \n",
      "43            42                           General Motors   \n",
      "44            43                          Elevance Health   \n",
      "45            44                                BMW Group   \n",
      "46            45                               Tata Group   \n",
      "47            46                      Mercedes-Benz Group   \n",
      "48            47   China Railway Construction Corporation   \n",
      "49            48                                    Baowu   \n",
      "50            49                                Citigroup   \n",
      "51            50                                     Enel   \n",
      "\n",
      "                          Revenue    Profit Employees Headquarters[note 1]  \\\n",
      "0                        Industry   Revenue    Profit            Employees   \n",
      "1                            None      None      None                 None   \n",
      "2                          Retail  $648,125   $15,511            2,100,000   \n",
      "3   Retail information technology  $574,785   $30,425            1,525,000   \n",
      "4                     Electricity  $545,948    $9,204            1,361,423   \n",
      "5                     Oil and gas  $488,980  $129,699               73,311   \n",
      "6                     Oil and gas  $429,700    $9,393              513,434   \n",
      "7                     Oil and gas  $476,000   $25,250            1,026,301   \n",
      "8                     Commodities  $400,000   $13,000                1,560   \n",
      "9          Information technology  $383,285   $96,995              161,000   \n",
      "10                     Healthcare  $371,622   $22,381              440,000   \n",
      "11                     Financials  $364,482   $96,223              396,500   \n",
      "12                     Healthcare  $357,776    $8,344              259,500   \n",
      "13                     Automotive  $348,408   $17,945              684,025   \n",
      "14                    Oil and gas  $344,582   $36,010               61,500   \n",
      "15                    Oil and gas  $323,183   $19,359              103,000   \n",
      "16                   Construction  $320,431    $4,272              382,894   \n",
      "17                     Automotive  $312,018   $34,214              380,793   \n",
      "18                     Healthcare  $308,951    $3,002               48,000   \n",
      "19         Information technology  $307,394   $73,795              182,502   \n",
      "20                     Healthcare  $262,173    $1,745               44,000   \n",
      "21         Information technology  $245,122   $88,136              228,000   \n",
      "22                    Commodities  $244,280    $7,393               12,479   \n",
      "23                         Retail  $242,290    $6,292              316,000   \n",
      "24                     Financials  $239,425   $49,552              309,926   \n",
      "25                     Financials  $222,484   $51,417              419,252   \n",
      "26                    Oil and gas  $218,945   $21,384              102,579   \n",
      "27                    Commodities  $217,829    $4,280               83,426   \n",
      "28                    Oil and gas  $213,032   $15,239               79,400   \n",
      "29                     Healthcare  $205,012      $261               47,520   \n",
      "30                     Automotive  $204,908   $20,103              258,275   \n",
      "31                    Oil and gas  $200,949   $21,369               45,600   \n",
      "32                     Financials  $199,826   $46,990              376,871   \n",
      "33                    Electronics  $198,257   $11,082              267,860   \n",
      "34                    Electronics  $197,876    $4,563              621,393   \n",
      "35                     Healthcare  $195,265    $5,164               71,413   \n",
      "36                     Financials  $192,398   $38,049              451,003   \n",
      "37                         Retail  $180,576   $16,988              575,000   \n",
      "38                   Construction  $178,563    $2,152              314,149   \n",
      "39                   Conglomerate  $177,000   $17,641              160,000   \n",
      "40                     Automotive  $176,191    $4,347              177,000   \n",
      "41                     Financials  $172,328   $32,758              306,931   \n",
      "42                     Financials  $171,912   $26,515              212,985   \n",
      "43                     Automotive  $171,842   $10,127              163,000   \n",
      "44                     Healthcare  $171,340    $5,987              104,900   \n",
      "45                     Automotive  $168,103   $12,205              154,950   \n",
      "46                   Conglomerate  $165,500   $12,205            1,028,000   \n",
      "47                     Automotive  $165,638   $15,417              166,056   \n",
      "48                   Construction  $160,847    $1,701              336,433   \n",
      "49                          Steel  $157,216    $2,494              258,697   \n",
      "50                     Financials  $156,820    $9,228              237,925   \n",
      "51                         Energy  $147,100    $3,400               61,060   \n",
      "\n",
      "             State-owned         Ref. USD millions  \n",
      "0   Headquarters[note 1]  State-owned         Ref.  \n",
      "1                   None         None         None  \n",
      "2          United States                       [1]  \n",
      "3          United States                       [4]  \n",
      "4                  China                       [5]  \n",
      "5           Saudi Arabia                       [6]  \n",
      "6                  China                       [7]  \n",
      "7                  China                       [8]  \n",
      "8            Switzerland                   [9][10]  \n",
      "9          United States                      [11]  \n",
      "10         United States                      [12]  \n",
      "11         United States                      [13]  \n",
      "12         United States                      [14]  \n",
      "13               Germany                      [15]  \n",
      "14         United States                      [16]  \n",
      "15        United Kingdom                      [17]  \n",
      "16                 China                      [18]  \n",
      "17                 Japan                      [19]  \n",
      "18         United States                      [20]  \n",
      "19         United States                      [21]  \n",
      "20         United States                      [22]  \n",
      "21         United States                      [23]  \n",
      "22             Singapore                      [24]  \n",
      "23         United States                      [25]  \n",
      "24         United States                      [26]  \n",
      "25                 China                      [27]  \n",
      "26                France                      [28]  \n",
      "27           Switzerland                      [29]  \n",
      "28        United Kingdom                      [30]  \n",
      "29         United States                      [31]  \n",
      "30           Netherlands                      [32]  \n",
      "31         United States                      [33]  \n",
      "32                 China                      [34]  \n",
      "33           South Korea                      [35]  \n",
      "34                Taiwan                      [36]  \n",
      "35         United States                      [37]  \n",
      "36                 China                      [38]  \n",
      "37               Germany                      [39]  \n",
      "38                 China                      [40]  \n",
      "39         United States                      [41]  \n",
      "40         United States                      [42]  \n",
      "41                 China                      [43]  \n",
      "42         United States                      [44]  \n",
      "43         United States                      [45]  \n",
      "44         United States                      [46]  \n",
      "45               Germany                      [47]  \n",
      "46                 India                      [48]  \n",
      "47               Germany                      [49]  \n",
      "48                 China                      [50]  \n",
      "49                 China                      [51]  \n",
      "50         United States                      [52]  \n",
      "51                 Italy                      [53]  \n"
     ]
    }
   ],
   "execution_count": 166
  },
  {
   "metadata": {
    "ExecuteTime": {
     "end_time": "2025-03-07T09:38:57.473607Z",
     "start_time": "2025-03-07T09:38:57.445134Z"
    }
   },
   "cell_type": "code",
   "source": "df.to_csv('largest_companies.csv')",
   "id": "eb3130742e040b24",
   "outputs": [],
   "execution_count": 167
  },
  {
   "metadata": {},
   "cell_type": "code",
   "outputs": [],
   "execution_count": null,
   "source": "",
   "id": "2816f8a852e92272"
  }
 ],
 "metadata": {
  "kernelspec": {
   "display_name": "Python 3",
   "language": "python",
   "name": "python3"
  },
  "language_info": {
   "codemirror_mode": {
    "name": "ipython",
    "version": 2
   },
   "file_extension": ".py",
   "mimetype": "text/x-python",
   "name": "python",
   "nbconvert_exporter": "python",
   "pygments_lexer": "ipython2",
   "version": "2.7.6"
  }
 },
 "nbformat": 4,
 "nbformat_minor": 5
}
